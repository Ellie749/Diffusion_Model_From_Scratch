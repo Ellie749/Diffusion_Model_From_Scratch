{
 "cells": [
  {
   "cell_type": "code",
   "execution_count": 37,
   "metadata": {},
   "outputs": [],
   "source": [
    "import numpy as np\n",
    "import pandas as pd\n",
    "import matplotlib.pyplot as plt\n",
    "import torch\n",
    "from torchvision.transforms import Compose, ToTensor\n",
    "from torchvision.datasets import MNIST\n",
    "import torch.nn as nn"
   ]
  },
  {
   "cell_type": "code",
   "execution_count": 22,
   "metadata": {},
   "outputs": [],
   "source": [
    "preprocess = Compose([\n",
    "    ToTensor()\n",
    "])\n",
    "\n",
    "train_dataset = MNIST(root='./data', train=True, download=True, transform=preprocess)\n",
    "test_dataset = MNIST(root='./data', train=False, download=True, transform=preprocess)\n",
    "\n",
    "train_data = torch.utils.data.DataLoader(train_dataset, batch_size=64, shuffle=True)\n",
    "test_data = torch.utils.data.DataLoader(test_dataset, batch_size=64, shuffle=True)"
   ]
  },
  {
   "cell_type": "code",
   "execution_count": 21,
   "metadata": {},
   "outputs": [
    {
     "data": {
      "text/plain": [
       "<torch.utils.data.dataloader.DataLoader at 0x1dc489bba30>"
      ]
     },
     "execution_count": 21,
     "metadata": {},
     "output_type": "execute_result"
    }
   ],
   "source": [
    "train_data"
   ]
  },
  {
   "cell_type": "code",
   "execution_count": 27,
   "metadata": {},
   "outputs": [
    {
     "name": "stdout",
     "output_type": "stream",
     "text": [
      "torch.Size([64, 1, 28, 28])\n",
      "torch.Size([64])\n"
     ]
    }
   ],
   "source": [
    "data_iter = iter(train_data)\n",
    "images, labels = next(data_iter)\n",
    "print(images.shape)\n",
    "print(labels.shape)"
   ]
  },
  {
   "cell_type": "code",
   "execution_count": 28,
   "metadata": {},
   "outputs": [
    {
     "data": {
      "text/plain": [
       "tensor([2, 2, 1, 4, 6, 2, 0, 3, 3, 1, 6, 2, 9, 4, 0, 6, 2, 7, 3, 1, 9, 5, 2, 1,\n",
       "        0, 4, 5, 8, 9, 1, 3, 9, 6, 6, 0, 2, 5, 9, 7, 1, 3, 7, 2, 6, 8, 6, 4, 1,\n",
       "        7, 7, 3, 7, 3, 0, 6, 1, 1, 7, 3, 4, 3, 7, 1, 5])"
      ]
     },
     "execution_count": 28,
     "metadata": {},
     "output_type": "execute_result"
    }
   ],
   "source": [
    "labels"
   ]
  },
  {
   "cell_type": "code",
   "execution_count": 35,
   "metadata": {},
   "outputs": [
    {
     "data": {
      "image/png": "[encoded data removed]",
      "text/plain": [
       "<Figure size 640x480 with 1 Axes>"
      ]
     },
     "metadata": {},
     "output_type": "display_data"
    }
   ],
   "source": [
    "plt.imshow(images[-3].squeeze(), cmap='gray')\n",
    "plt.show()"
   ]
  },
  {
   "cell_type": "code",
   "execution_count": null,
   "metadata": {},
   "outputs": [],
   "source": [
    "BATCH_SIZE = 64\n",
    "EPOCH = 10"
   ]
  },
  {
   "cell_type": "code",
   "execution_count": null,
   "metadata": {},
   "outputs": [],
   "source": [
    "class simpleUNet(nn.Module):\n",
    "    def __init__(self):\n",
    "        super().__init__()\n",
    "        self.conv1 = nn.Conv2d(1, 64, 3, padding=1)\n",
    "        self.conv2 = nn.conv2d(64, 128, 3, padding=1)\n",
    "        self.conv3 = nn.conv2d(128, 64, 3, padding=1)\n",
    "        self.conv4 = nn.conv2d(64, 1, 3, padding=1)\n",
    "        self.relu = nn.ReLU()\n",
    "\n",
    "\n",
    "    def forward(self, x):\n",
    "        x = self.relu(self.conv1(x))\n",
    "        x = self.relu(self.conv2(x))\n",
    "        x = self.relu(self.conv3(x))\n",
    "        x = self.conv4(x)\n",
    "\n",
    "        return x\n",
    "    "
   ]
  },
  {
   "cell_type": "code",
   "execution_count": 55,
   "metadata": {},
   "outputs": [],
   "source": [
    "normal_data = np.array(torch.randn(1000))"
   ]
  },
  {
   "cell_type": "code",
   "execution_count": 56,
   "metadata": {},
   "outputs": [
    {
     "data": {
      "text/plain": [
       "(array([1., 0., 0., 1., 1., 0., 0., 0., 0., 0., 0., 0., 0., 0., 1., 0., 0.,\n",
       "        0., 1., 0., 2., 0., 0., 0., 0., 0., 0., 0., 0., 0., 0., 1., 0., 0.,\n",
       "        0., 0., 0., 0., 0., 0., 0., 0., 0., 0., 0., 0., 0., 0., 0., 0., 0.,\n",
       "        0., 0., 0., 0., 0., 0., 0., 0., 0., 0., 0., 0., 0., 0., 0., 0., 0.,\n",
       "        0., 0., 0., 1., 0., 0., 0., 0., 0., 0., 0., 0., 0., 0., 0., 1., 0.,\n",
       "        0., 1., 1., 0., 0., 0., 1., 0., 1., 1., 0., 1., 0., 0., 0., 0., 0.,\n",
       "        0., 0., 0., 0., 1., 0., 0., 1., 0., 0., 0., 0., 0., 0., 0., 0., 1.,\n",
       "        0., 0., 0., 0., 0., 0., 0., 0., 0., 1., 0., 0., 1., 0., 0., 0., 0.,\n",
       "        1., 0., 1., 0., 0., 0., 1., 0., 0., 0., 0., 0., 1., 0., 0., 1., 0.,\n",
       "        0., 0., 0., 0., 0., 1., 0., 0., 0., 0., 0., 1., 1., 0., 0., 0., 1.,\n",
       "        0., 0., 0., 0., 1., 0., 0., 0., 0., 1., 0., 0., 0., 2., 1., 1., 0.,\n",
       "        1., 1., 1., 0., 1., 0., 0., 0., 0., 0., 0., 1., 0., 0., 0., 0., 0.,\n",
       "        2., 0., 1., 0., 1., 0., 1., 0., 1., 0., 0., 1., 0., 1., 0., 1., 0.,\n",
       "        0., 0., 0., 3., 1., 0., 2., 2., 1., 0., 0., 2., 0., 0., 0., 0., 2.,\n",
       "        1., 0., 0., 0., 2., 0., 1., 2., 0., 2., 0., 0., 0., 1., 1., 1., 0.,\n",
       "        0., 0., 2., 1., 0., 0., 0., 0., 0., 1., 0., 2., 2., 0., 0., 1., 0.,\n",
       "        0., 0., 1., 2., 0., 1., 0., 3., 0., 2., 0., 1., 0., 0., 0., 0., 0.,\n",
       "        1., 1., 0., 3., 2., 1., 1., 3., 2., 3., 0., 4., 2., 2., 3., 0., 1.,\n",
       "        0., 0., 1., 1., 1., 2., 2., 0., 1., 3., 1., 0., 0., 0., 2., 1., 3.,\n",
       "        3., 1., 1., 1., 2., 1., 2., 1., 1., 5., 0., 1., 1., 1., 0., 0., 2.,\n",
       "        3., 2., 0., 3., 0., 2., 1., 1., 0., 0., 0., 1., 1., 1., 2., 3., 1.,\n",
       "        2., 2., 1., 3., 0., 2., 1., 2., 1., 1., 1., 0., 0., 1., 1., 1., 5.,\n",
       "        2., 2., 1., 1., 1., 1., 4., 6., 1., 3., 0., 2., 3., 7., 6., 1., 1.,\n",
       "        2., 2., 3., 1., 0., 1., 2., 2., 2., 2., 4., 3., 2., 1., 2., 6., 2.,\n",
       "        2., 1., 2., 1., 1., 1., 4., 1., 4., 4., 4., 2., 1., 2., 3., 1., 4.,\n",
       "        6., 3., 4., 2., 1., 3., 3., 4., 3., 3., 5., 3., 1., 5., 3., 3., 1.,\n",
       "        2., 1., 3., 2., 1., 2., 1., 3., 1., 2., 2., 2., 0., 2., 2., 0., 2.,\n",
       "        5., 0., 5., 3., 2., 2., 0., 2., 2., 2., 3., 2., 4., 5., 3., 1., 2.,\n",
       "        2., 2., 3., 3., 2., 1., 1., 2., 3., 3., 0., 2., 5., 6., 4., 1., 5.,\n",
       "        1., 1., 2., 2., 0., 2., 2., 2., 0., 1., 2., 2., 1., 6., 4., 2., 4.,\n",
       "        1., 2., 3., 4., 4., 1., 4., 5., 2., 1., 3., 6., 0., 1., 1., 2., 3.,\n",
       "        4., 2., 2., 6., 0., 4., 2., 2., 0., 5., 6., 1., 2., 1., 4., 1., 0.,\n",
       "        4., 1., 4., 0., 1., 1., 3., 2., 2., 0., 1., 1., 0., 0., 3., 2., 2.,\n",
       "        1., 2., 3., 3., 3., 1., 1., 2., 2., 0., 3., 3., 2., 3., 3., 2., 3.,\n",
       "        2., 1., 2., 2., 3., 1., 4., 3., 3., 2., 8., 1., 4., 1., 5., 3., 4.,\n",
       "        0., 2., 1., 1., 4., 3., 5., 1., 2., 2., 0., 2., 0., 2., 0., 1., 0.,\n",
       "        1., 1., 1., 2., 3., 0., 1., 2., 2., 3., 0., 2., 1., 0., 2., 0., 5.,\n",
       "        1., 1., 0., 3., 2., 1., 0., 2., 1., 0., 4., 2., 3., 2., 3., 1., 0.,\n",
       "        5., 0., 2., 2., 1., 3., 4., 2., 4., 2., 1., 1., 0., 2., 3., 2., 1.,\n",
       "        2., 3., 1., 2., 5., 1., 0., 0., 2., 0., 1., 0., 1., 2., 0., 2., 0.,\n",
       "        0., 2., 0., 2., 2., 0., 1., 2., 3., 0., 0., 2., 2., 0., 2., 1., 2.,\n",
       "        0., 1., 0., 2., 0., 2., 1., 0., 1., 2., 1., 0., 0., 2., 1., 1., 1.,\n",
       "        1., 1., 2., 0., 2., 1., 4., 1., 1., 4., 0., 1., 0., 3., 3., 0., 0.,\n",
       "        0., 2., 0., 2., 0., 0., 1., 0., 1., 1., 1., 3., 4., 0., 4., 2., 1.,\n",
       "        1., 2., 1., 1., 0., 3., 1., 2., 1., 2., 0., 1., 1., 1., 1., 2., 2.,\n",
       "        1., 0., 0., 0., 0., 2., 0., 1., 0., 2., 0., 1., 0., 0., 2., 1., 0.,\n",
       "        0., 0., 1., 0., 0., 1., 0., 1., 0., 0., 0., 1., 1., 1., 0., 0., 0.,\n",
       "        1., 3., 0., 0., 1., 0., 0., 0., 0., 0., 0., 2., 0., 0., 0., 0., 1.,\n",
       "        1., 0., 0., 0., 0., 1., 0., 0., 0., 0., 0., 0., 0., 1., 0., 0., 0.,\n",
       "        0., 0., 0., 0., 1., 0., 0., 0., 0., 0., 0., 0., 0., 0., 0., 0., 0.,\n",
       "        0., 0., 1., 0., 0., 0., 0., 0., 0., 0., 0., 0., 0., 0., 0., 0., 0.,\n",
       "        0., 0., 0., 0., 0., 0., 1., 0., 0., 0., 0., 0., 0., 0., 0., 0., 0.,\n",
       "        0., 0., 0., 0., 0., 0., 0., 0., 0., 0., 0., 0., 0., 0., 0., 1., 0.,\n",
       "        0., 0., 0., 0., 0., 0., 0., 0., 0., 0., 0., 0., 0., 0., 0., 0., 0.,\n",
       "        1., 1., 0., 0., 0., 0., 0., 0., 0., 0., 1., 0., 0., 0., 0., 0., 0.,\n",
       "        0., 0., 0., 0., 0., 0., 0., 0., 0., 0., 0., 0., 0., 0., 0., 0., 0.,\n",
       "        0., 0., 0., 0., 0., 0., 0., 0., 0., 0., 0., 0., 0., 0., 0., 0., 0.,\n",
       "        0., 0., 0., 0., 0., 0., 0., 0., 0., 0., 0., 0., 0., 0., 0., 0., 0.,\n",
       "        0., 0., 0., 0., 0., 0., 0., 0., 0., 0., 0., 0., 0., 1.]),\n",
       " array([-2.93427157, -2.92826414, -2.92225671, ...,  3.06118417,\n",
       "         3.0671916 ,  3.07319903]),\n",
       " <BarContainer object of 1000 artists>)"
      ]
     },
     "execution_count": 56,
     "metadata": {},
     "output_type": "execute_result"
    },
    {
     "data": {
      "image/png": "[encoded data removed]",
      "text/plain": [
       "<Figure size 640x480 with 1 Axes>"
      ]
     },
     "metadata": {},
     "output_type": "display_data"
    }
   ],
   "source": [
    "plt.hist(normal_data, bins=len(normal_data))"
   ]
  },
  {
   "cell_type": "code",
   "execution_count": 58,
   "metadata": {},
   "outputs": [
    {
     "data": {
      "text/plain": [
       "torch.Size([1, 28, 28])"
      ]
     },
     "execution_count": 58,
     "metadata": {},
     "output_type": "execute_result"
    }
   ],
   "source": [
    "images[0].shape"
   ]
  },
  {
   "cell_type": "code",
   "execution_count": null,
   "metadata": {},
   "outputs": [
    {
     "name": "stdout",
     "output_type": "stream",
     "text": [
      "torch.Size([1, 28, 28])\n"
     ]
    },
    {
     "data": {
      "image/png": "[encoded data removed]",
      "text/plain": [
       "<Figure size 640x480 with 1 Axes>"
      ]
     },
     "metadata": {},
     "output_type": "display_data"
    }
   ],
   "source": [
    "def forward_add_noise(image, timestep):\n",
    "    noise = torch.randn(image.shape)\n",
    "    # noise = torch.randn_like(image)\n",
    "    return noise\n",
    "\n",
    "\n",
    "noise = forward_add_noise(images[0], 1)\n",
    "print(noise.shape)\n",
    "plt.imshow(noise.squeeze(), cmap='gray')\n",
    "plt.show()\n"
   ]
  },
  {
   "cell_type": "code",
   "execution_count": null,
   "metadata": {},
   "outputs": [],
   "source": []
  }
 ],
 "metadata": {
  "kernelspec": {
   "display_name": "Python PyTorch_AndrejKarpathy_venv",
   "language": "python",
   "name": "pytorch_andrejkarpathy_venv"
  },
  "language_info": {
   "codemirror_mode": {
    "name": "ipython",
    "version": 3
   },
   "file_extension": ".py",
   "mimetype": "text/x-python",
   "name": "python",
   "nbconvert_exporter": "python",
   "pygments_lexer": "ipython3",
   "version": "3.8.0"
  }
 },
 "nbformat": 4,
 "nbformat_minor": 2
}
