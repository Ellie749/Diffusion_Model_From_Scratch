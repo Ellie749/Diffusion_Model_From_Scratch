{
 "cells": [
  {
   "cell_type": "code",
   "execution_count": 1,
   "metadata": {},
   "outputs": [],
   "source": [
    "import numpy as np\n",
    "import pandas as pd\n",
    "import matplotlib.pyplot as plt\n",
    "import torch\n",
    "from torchvision.transforms import Compose, ToTensor\n",
    "from torchvision.datasets import MNIST\n",
    "import torch.nn as nn\n",
    "from tqdm import tqdm"
   ]
  },
  {
   "cell_type": "code",
   "execution_count": 2,
   "metadata": {},
   "outputs": [],
   "source": [
    "preprocess = Compose([\n",
    "    ToTensor()\n",
    "])\n",
    "\n",
    "train_dataset = MNIST(root='./data', train=True, download=True, transform=preprocess)\n",
    "test_dataset = MNIST(root='./data', train=False, download=True, transform=preprocess)\n",
    "\n",
    "train_data = torch.utils.data.DataLoader(train_dataset, batch_size=64, shuffle=True)\n",
    "test_data = torch.utils.data.DataLoader(test_dataset, batch_size=64, shuffle=True)"
   ]
  },
  {
   "cell_type": "code",
   "execution_count": 3,
   "metadata": {},
   "outputs": [
    {
     "data": {
      "text/plain": [
       "<torch.utils.data.dataloader.DataLoader at 0x1950b763d00>"
      ]
     },
     "execution_count": 3,
     "metadata": {},
     "output_type": "execute_result"
    }
   ],
   "source": [
    "train_data"
   ]
  },
  {
   "cell_type": "code",
   "execution_count": 4,
   "metadata": {},
   "outputs": [
    {
     "name": "stdout",
     "output_type": "stream",
     "text": [
      "torch.Size([64, 1, 28, 28])\n",
      "torch.Size([64])\n"
     ]
    }
   ],
   "source": [
    "data_iter = iter(train_data)\n",
    "images, labels = next(data_iter)\n",
    "print(images.shape)\n",
    "print(labels.shape)"
   ]
  },
  {
   "cell_type": "code",
   "execution_count": 5,
   "metadata": {},
   "outputs": [
    {
     "data": {
      "text/plain": [
       "tensor([2, 2, 8, 4, 4, 9, 9, 3, 7, 1, 1, 1, 9, 4, 9, 6, 6, 5, 9, 4, 0, 0, 1, 9,\n",
       "        9, 8, 5, 6, 3, 7, 6, 3, 5, 2, 2, 1, 6, 4, 5, 6, 4, 4, 3, 7, 2, 7, 4, 7,\n",
       "        8, 3, 1, 1, 7, 6, 8, 3, 7, 3, 2, 1, 7, 8, 8, 8])"
      ]
     },
     "execution_count": 5,
     "metadata": {},
     "output_type": "execute_result"
    }
   ],
   "source": [
    "labels"
   ]
  },
  {
   "cell_type": "code",
   "execution_count": 6,
   "metadata": {},
   "outputs": [
    {
     "data": {
      "image/png": "[encoded data removed]",
      "text/plain": [
       "<Figure size 640x480 with 1 Axes>"
      ]
     },
     "metadata": {},
     "output_type": "display_data"
    }
   ],
   "source": [
    "plt.imshow(images[-3].squeeze(), cmap='gray')\n",
    "plt.show()"
   ]
  },
  {
   "cell_type": "code",
   "execution_count": 7,
   "metadata": {},
   "outputs": [],
   "source": [
    "BATCH_SIZE = 64\n",
    "EPOCHS = 10"
   ]
  },
  {
   "cell_type": "code",
   "execution_count": null,
   "metadata": {},
   "outputs": [],
   "source": []
  },
  {
   "cell_type": "code",
   "execution_count": 8,
   "metadata": {},
   "outputs": [],
   "source": [
    "normal_data = np.array(torch.randn(1000))"
   ]
  },
  {
   "cell_type": "code",
   "execution_count": 9,
   "metadata": {},
   "outputs": [
    {
     "data": {
      "text/plain": [
       "(array([1., 0., 0., 0., 0., 0., 0., 0., 0., 0., 0., 0., 1., 0., 0., 0., 0.,\n",
       "        0., 0., 0., 0., 0., 0., 0., 0., 0., 0., 0., 0., 0., 0., 1., 0., 0.,\n",
       "        0., 0., 0., 0., 0., 0., 0., 0., 0., 2., 0., 0., 0., 0., 0., 0., 0.,\n",
       "        0., 0., 0., 0., 0., 0., 0., 0., 0., 0., 0., 0., 0., 0., 0., 0., 1.,\n",
       "        0., 0., 0., 0., 0., 0., 0., 0., 0., 0., 1., 0., 0., 0., 0., 0., 1.,\n",
       "        1., 0., 0., 0., 0., 0., 0., 1., 0., 0., 0., 0., 0., 0., 0., 0., 0.,\n",
       "        0., 1., 0., 0., 0., 1., 0., 0., 1., 1., 0., 1., 0., 0., 1., 1., 0.,\n",
       "        0., 1., 1., 1., 0., 0., 0., 0., 0., 0., 0., 0., 0., 0., 0., 0., 0.,\n",
       "        0., 1., 1., 0., 0., 0., 1., 0., 1., 0., 0., 0., 0., 1., 0., 1., 0.,\n",
       "        0., 0., 0., 1., 1., 0., 1., 0., 1., 1., 0., 0., 0., 0., 0., 1., 2.,\n",
       "        0., 0., 0., 0., 0., 1., 0., 0., 0., 1., 0., 2., 0., 2., 0., 0., 0.,\n",
       "        0., 0., 0., 0., 1., 0., 2., 0., 0., 0., 0., 0., 0., 1., 0., 1., 2.,\n",
       "        0., 1., 0., 0., 0., 1., 0., 1., 0., 2., 1., 1., 0., 0., 0., 1., 1.,\n",
       "        0., 1., 2., 2., 2., 2., 1., 1., 1., 0., 4., 0., 1., 2., 1., 2., 1.,\n",
       "        1., 0., 0., 0., 0., 0., 0., 1., 0., 2., 0., 2., 1., 3., 2., 0., 1.,\n",
       "        1., 1., 1., 0., 0., 1., 3., 5., 3., 1., 0., 1., 1., 1., 1., 3., 0.,\n",
       "        1., 0., 1., 1., 0., 4., 1., 0., 0., 0., 0., 1., 4., 2., 3., 2., 1.,\n",
       "        1., 0., 1., 2., 1., 0., 1., 1., 5., 1., 0., 1., 2., 1., 0., 1., 2.,\n",
       "        0., 4., 2., 1., 2., 3., 3., 1., 0., 1., 3., 3., 2., 1., 2., 2., 2.,\n",
       "        0., 2., 1., 0., 1., 3., 3., 3., 1., 1., 1., 2., 2., 0., 4., 2., 3.,\n",
       "        1., 2., 3., 1., 1., 0., 1., 1., 1., 0., 1., 5., 1., 0., 0., 2., 0.,\n",
       "        2., 4., 3., 3., 4., 3., 0., 4., 0., 2., 4., 1., 3., 0., 2., 1., 1.,\n",
       "        5., 6., 3., 1., 1., 1., 2., 2., 2., 4., 2., 2., 5., 2., 3., 2., 3.,\n",
       "        3., 3., 4., 4., 2., 2., 3., 4., 3., 1., 1., 3., 2., 3., 0., 2., 4.,\n",
       "        2., 4., 3., 1., 2., 2., 1., 0., 1., 4., 3., 1., 1., 4., 4., 3., 0.,\n",
       "        0., 4., 1., 2., 1., 0., 6., 0., 2., 1., 4., 2., 3., 3., 4., 3., 3.,\n",
       "        0., 2., 4., 3., 5., 1., 0., 5., 5., 3., 2., 3., 3., 2., 0., 1., 1.,\n",
       "        0., 2., 3., 4., 2., 4., 2., 3., 4., 2., 2., 3., 4., 5., 5., 4., 1.,\n",
       "        6., 1., 3., 4., 1., 1., 2., 3., 4., 2., 4., 1., 2., 2., 4., 1., 2.,\n",
       "        4., 3., 2., 7., 2., 3., 3., 0., 3., 3., 5., 1., 1., 3., 2., 2., 2.,\n",
       "        1., 1., 2., 1., 4., 2., 2., 0., 3., 2., 1., 1., 2., 4., 1., 3., 3.,\n",
       "        1., 2., 1., 1., 5., 1., 3., 1., 3., 2., 2., 5., 4., 1., 2., 3., 3.,\n",
       "        1., 0., 1., 2., 5., 4., 3., 1., 3., 4., 2., 0., 6., 0., 1., 3., 0.,\n",
       "        1., 1., 4., 3., 1., 3., 1., 1., 1., 1., 3., 1., 1., 3., 1., 3., 1.,\n",
       "        0., 0., 2., 2., 0., 1., 3., 0., 2., 0., 3., 2., 1., 3., 3., 1., 2.,\n",
       "        0., 3., 3., 0., 1., 2., 1., 2., 0., 0., 0., 2., 2., 4., 4., 1., 0.,\n",
       "        1., 2., 3., 3., 0., 2., 0., 1., 1., 2., 0., 1., 2., 2., 3., 0., 0.,\n",
       "        0., 1., 0., 2., 0., 2., 0., 2., 0., 2., 3., 1., 1., 0., 2., 0., 1.,\n",
       "        1., 2., 0., 0., 2., 3., 0., 2., 1., 1., 1., 2., 3., 3., 0., 0., 1.,\n",
       "        0., 0., 0., 6., 0., 0., 0., 1., 2., 1., 1., 1., 2., 2., 2., 4., 1.,\n",
       "        1., 4., 0., 1., 2., 2., 3., 0., 1., 0., 0., 0., 0., 1., 2., 0., 0.,\n",
       "        1., 2., 0., 2., 1., 1., 1., 0., 0., 1., 2., 0., 0., 3., 0., 0., 2.,\n",
       "        0., 1., 1., 0., 1., 1., 0., 0., 1., 0., 1., 0., 1., 0., 0., 1., 0.,\n",
       "        0., 2., 1., 0., 3., 0., 1., 2., 0., 0., 2., 2., 0., 0., 0., 1., 0.,\n",
       "        1., 2., 3., 0., 2., 0., 1., 0., 0., 1., 0., 0., 0., 1., 0., 1., 0.,\n",
       "        1., 0., 0., 0., 0., 0., 0., 1., 0., 0., 0., 0., 0., 0., 0., 0., 0.,\n",
       "        0., 0., 1., 1., 0., 0., 0., 0., 0., 0., 1., 0., 2., 1., 0., 1., 3.,\n",
       "        0., 0., 0., 0., 0., 1., 1., 1., 0., 0., 1., 0., 1., 0., 0., 0., 0.,\n",
       "        0., 1., 1., 0., 0., 1., 0., 0., 0., 0., 0., 0., 0., 1., 0., 0., 0.,\n",
       "        2., 0., 0., 0., 0., 1., 0., 0., 0., 0., 0., 1., 0., 0., 1., 1., 0.,\n",
       "        0., 0., 0., 0., 0., 0., 0., 1., 1., 0., 0., 0., 0., 0., 0., 0., 0.,\n",
       "        0., 0., 0., 0., 1., 0., 0., 1., 0., 0., 0., 0., 2., 0., 0., 0., 0.,\n",
       "        0., 0., 1., 0., 0., 0., 0., 0., 0., 0., 0., 0., 0., 0., 0., 0., 0.,\n",
       "        0., 0., 0., 0., 0., 0., 0., 0., 0., 0., 0., 1., 0., 0., 0., 0., 0.,\n",
       "        0., 0., 0., 0., 0., 1., 0., 0., 0., 0., 0., 0., 0., 0., 1., 0., 0.,\n",
       "        0., 0., 0., 0., 0., 1., 0., 0., 0., 0., 0., 0., 0., 0., 0., 0., 0.,\n",
       "        0., 0., 0., 0., 0., 0., 0., 0., 0., 0., 0., 1., 0., 0., 0., 0., 0.,\n",
       "        1., 0., 0., 0., 0., 0., 0., 0., 0., 0., 0., 0., 0., 0., 0., 0., 0.,\n",
       "        0., 0., 0., 0., 0., 0., 0., 0., 0., 0., 0., 0., 0., 1.]),\n",
       " array([-2.92021847, -2.91403508, -2.9078517 , ...,  3.25077438,\n",
       "         3.25695777,  3.26314116]),\n",
       " <BarContainer object of 1000 artists>)"
      ]
     },
     "execution_count": 9,
     "metadata": {},
     "output_type": "execute_result"
    },
    {
     "data": {
      "image/png": "[encoded data removed]",
      "text/plain": [
       "<Figure size 640x480 with 1 Axes>"
      ]
     },
     "metadata": {},
     "output_type": "display_data"
    }
   ],
   "source": [
    "plt.hist(normal_data, bins=len(normal_data))"
   ]
  },
  {
   "cell_type": "code",
   "execution_count": 10,
   "metadata": {},
   "outputs": [
    {
     "data": {
      "text/plain": [
       "torch.Size([1, 28, 28])"
      ]
     },
     "execution_count": 10,
     "metadata": {},
     "output_type": "execute_result"
    }
   ],
   "source": [
    "images[0].shape"
   ]
  },
  {
   "cell_type": "code",
   "execution_count": 11,
   "metadata": {},
   "outputs": [
    {
     "name": "stdout",
     "output_type": "stream",
     "text": [
      "torch.Size([1, 28, 28])\n"
     ]
    },
    {
     "data": {
      "image/png": "[encoded data removed]",
      "text/plain": [
       "<Figure size 640x480 with 1 Axes>"
      ]
     },
     "metadata": {},
     "output_type": "display_data"
    }
   ],
   "source": [
    "def forward_add_noise(image, timestep):\n",
    "    noise = torch.randn(image.shape)\n",
    "    # noise = torch.randn_like(image)\n",
    "    return noise\n",
    "\n",
    "\n",
    "noise = forward_add_noise(images[0], 1)\n",
    "print(noise.shape)\n",
    "plt.imshow(noise.squeeze(), cmap='gray')\n",
    "plt.show()\n"
   ]
  },
  {
   "cell_type": "code",
   "execution_count": 12,
   "metadata": {},
   "outputs": [],
   "source": [
    "T = 200\n",
    "IMG_SHAPE = (28, 28, 1)\n",
    "betas = np.linspace(1e-4, 0.002, T, dtype=np.float32)\n",
    "alphas = 1 - betas\n",
    "alphas_cumprod = np.cumprod(alphas)"
   ]
  },
  {
   "cell_type": "code",
   "execution_count": null,
   "metadata": {},
   "outputs": [],
   "source": []
  },
  {
   "cell_type": "code",
   "execution_count": 13,
   "metadata": {},
   "outputs": [
    {
     "data": {
      "text/plain": [
       "array([0.9999    , 0.99979043, 0.99967134, 0.9995428 , 0.99940467,\n",
       "       0.99925697, 0.9990998 , 0.99893314, 0.99875695, 0.9985713 ,\n",
       "       0.9983761 , 0.9981714 , 0.9979572 , 0.9977336 , 0.9975005 ,\n",
       "       0.9972579 , 0.9970058 , 0.9967443 , 0.9964733 , 0.99619293,\n",
       "       0.99590313, 0.99560386, 0.99529517, 0.99497706, 0.9946496 ,\n",
       "       0.9943127 , 0.9939664 , 0.99361074, 0.9932457 , 0.9928714 ,\n",
       "       0.9924877 , 0.99209476, 0.9916924 , 0.9912808 , 0.99085987,\n",
       "       0.9904297 , 0.98999023, 0.9895415 , 0.98908347, 0.9886163 ,\n",
       "       0.98813987, 0.98765427, 0.9871595 , 0.9866555 , 0.9861423 ,\n",
       "       0.98561996, 0.9850885 , 0.984548  , 0.9839983 , 0.9834395 ,\n",
       "       0.98287165, 0.9822948 , 0.9817089 , 0.981114  , 0.98051   ,\n",
       "       0.979897  , 0.9792751 , 0.97864425, 0.97800446, 0.9773557 ,\n",
       "       0.9766981 , 0.9760316 , 0.9753562 , 0.974672  , 0.97397894,\n",
       "       0.9732771 , 0.9725664 , 0.971847  , 0.97111887, 0.97038203,\n",
       "       0.96963644, 0.96888214, 0.9681192 , 0.9673476 , 0.96656746,\n",
       "       0.96577865, 0.96498126, 0.96417534, 0.9633609 , 0.96253794,\n",
       "       0.9617065 , 0.9608666 , 0.9600182 , 0.95916146, 0.9582963 ,\n",
       "       0.9574228 , 0.9565409 , 0.9556507 , 0.9547522 , 0.95384544,\n",
       "       0.95293045, 0.9520072 , 0.95107573, 0.9501361 , 0.94918835,\n",
       "       0.9482325 , 0.94726855, 0.9462965 , 0.94531643, 0.94432837,\n",
       "       0.9433323 , 0.94232833, 0.94131637, 0.94029653, 0.9392688 ,\n",
       "       0.93823326, 0.9371899 , 0.93613875, 0.9350798 , 0.9340131 ,\n",
       "       0.93293875, 0.93185675, 0.9307671 , 0.9296698 , 0.9285649 ,\n",
       "       0.9274525 , 0.9263326 , 0.9252052 , 0.9240703 , 0.922928  ,\n",
       "       0.92177826, 0.92062116, 0.9194567 , 0.918285  , 0.917106  ,\n",
       "       0.9159197 , 0.91472626, 0.91352564, 0.9123179 , 0.91110295,\n",
       "       0.90988094, 0.9086519 , 0.90741587, 0.9061729 , 0.9049229 ,\n",
       "       0.903666  , 0.9024022 , 0.90113163, 0.8998542 , 0.89857   ,\n",
       "       0.897279  , 0.8959813 , 0.894677  , 0.893366  , 0.8920484 ,\n",
       "       0.89072424, 0.8893935 , 0.8880563 , 0.8867126 , 0.8853625 ,\n",
       "       0.884006  , 0.8826431 , 0.88127387, 0.87989837, 0.8785166 ,\n",
       "       0.87712866, 0.8757345 , 0.8743342 , 0.8729278 , 0.87151533,\n",
       "       0.87009686, 0.8686724 , 0.86724186, 0.86580545, 0.86436313,\n",
       "       0.862915  , 0.86146104, 0.8600013 , 0.8585358 , 0.85706466,\n",
       "       0.85558784, 0.8541054 , 0.8526174 , 0.8511238 , 0.8496247 ,\n",
       "       0.84812015, 0.8466102 , 0.8450948 , 0.84357405, 0.842048  ,\n",
       "       0.8405166 , 0.8389801 , 0.8374383 , 0.83589137, 0.83433926,\n",
       "       0.8327821 , 0.8312199 , 0.8296527 , 0.8280806 , 0.82650346,\n",
       "       0.8249214 , 0.8233346 , 0.82174295, 0.82014656, 0.8185454 ,\n",
       "       0.81693953, 0.8153291 , 0.81371397, 0.81209433, 0.81047016],\n",
       "      dtype=float32)"
      ]
     },
     "execution_count": 13,
     "metadata": {},
     "output_type": "execute_result"
    }
   ],
   "source": [
    "alphas_cumprod"
   ]
  },
  {
   "cell_type": "code",
   "execution_count": 14,
   "metadata": {},
   "outputs": [
    {
     "name": "stdout",
     "output_type": "stream",
     "text": [
      "torch.Size([1, 1, 28, 28])\n"
     ]
    }
   ],
   "source": [
    "def forward(x0, t):\n",
    "    noise = torch.randn((28,28))\n",
    "    a_bar = np.array(alphas_cumprod[t])\n",
    "    a_bar = torch.from_numpy(a_bar)\n",
    "    a_bar = a_bar.reshape((1,1,1,1))\n",
    "    out = torch.sqrt(a_bar) * x0 + torch.sqrt(1 - a_bar) * noise\n",
    "\n",
    "    return out \n",
    "\n",
    "noisy_img = forward(images[8].squeeze(), 50)\n",
    "print(noisy_img.shape)"
   ]
  },
  {
   "cell_type": "code",
   "execution_count": 15,
   "metadata": {},
   "outputs": [
    {
     "name": "stdout",
     "output_type": "stream",
     "text": [
      "10\n"
     ]
    },
    {
     "data": {
      "image/png": "[encoded data removed]",
      "text/plain": [
       "<Figure size 2000x2000 with 11 Axes>"
      ]
     },
     "metadata": {},
     "output_type": "display_data"
    }
   ],
   "source": [
    "imgs = []\n",
    "for i in range(10):\n",
    "    imgs.append(torch.squeeze(forward(images[8], i*20)))\n",
    "print(len(imgs))\n",
    "imgs.append(torch.squeeze(forward(images[8], 199)))\n",
    "\n",
    "\n",
    "plt.figure(figsize=(20, 20))\n",
    "for i in range(len(imgs)):\n",
    "    plt.subplot(1, 11, i+1)\n",
    "    plt.imshow(imgs[i], cmap='gray')\n",
    "    plt.xticks([])  #hide\n",
    "    plt.yticks([])  \n",
    "    plt.xlabel(str(i*20), fontsize=12)\n",
    "\n",
    "    \n",
    "plt.show()"
   ]
  },
  {
   "cell_type": "code",
   "execution_count": 16,
   "metadata": {},
   "outputs": [
    {
     "name": "stdout",
     "output_type": "stream",
     "text": [
      "tensor(0.1195)\n",
      "tensor(0.4923)\n"
     ]
    }
   ],
   "source": [
    "print(imgs[-1].mean())\n",
    "print(imgs[-1].std())"
   ]
  },
  {
   "cell_type": "code",
   "execution_count": 17,
   "metadata": {},
   "outputs": [
    {
     "name": "stdout",
     "output_type": "stream",
     "text": [
      "10\n"
     ]
    },
    {
     "data": {
      "image/png": "[encoded data removed]",
      "text/plain": [
       "<Figure size 2000x2000 with 11 Axes>"
      ]
     },
     "metadata": {},
     "output_type": "display_data"
    }
   ],
   "source": [
    "T = 200\n",
    "IMG_SHAPE = (28, 28, 1)\n",
    "betas = np.linspace(1e-4, 0.02, T, dtype=np.float32)\n",
    "alphas = 1 - betas\n",
    "alphas_cumprod = np.cumprod(alphas)\n",
    "\n",
    "imgs = []\n",
    "for i in range(10):\n",
    "    imgs.append(torch.squeeze(forward(images[8], i*20)))\n",
    "print(len(imgs))\n",
    "imgs.append(torch.squeeze(forward(images[8], 199)))\n",
    "\n",
    "\n",
    "plt.figure(figsize=(20, 20))\n",
    "for i in range(len(imgs)):\n",
    "    plt.subplot(1, 11, i+1)\n",
    "    plt.imshow(imgs[i], cmap='gray')\n",
    "    plt.xticks([])  #hide\n",
    "    plt.yticks([])  \n",
    "    plt.xlabel(str(i*20), fontsize=12)\n",
    "\n",
    "    \n",
    "plt.show()"
   ]
  },
  {
   "cell_type": "code",
   "execution_count": 18,
   "metadata": {},
   "outputs": [
    {
     "name": "stdout",
     "output_type": "stream",
     "text": [
      "tensor(0.0049)\n",
      "tensor(0.9435)\n"
     ]
    }
   ],
   "source": [
    "print(imgs[-1].mean())\n",
    "print(imgs[-1].std())"
   ]
  },
  {
   "cell_type": "markdown",
   "metadata": {},
   "source": [
    "### Model"
   ]
  },
  {
   "cell_type": "code",
   "execution_count": 19,
   "metadata": {},
   "outputs": [],
   "source": [
    "class simpleUNet(nn.Module):\n",
    "    def __init__(self):\n",
    "        super().__init__()\n",
    "        self.conv1 = nn.Conv2d(1, 64, 3, padding=1)\n",
    "        self.conv2 = nn.Conv2d(64, 128, 3, padding=1)\n",
    "        self.conv3 = nn.Conv2d(128, 64, 3, padding=1)\n",
    "        self.conv4 = nn.Conv2d(64, 1, 3, padding=1)\n",
    "        self.relu = nn.ReLU()\n",
    "\n",
    "\n",
    "    def forward(self, x, t):\n",
    "        t = t[:, None, None, None].float() / T\n",
    "        x = x + t\n",
    "        x = self.relu(self.conv1(x))\n",
    "        x = self.relu(self.conv2(x))\n",
    "        x = self.relu(self.conv3(x))\n",
    "        x = self.conv4(x)\n",
    "\n",
    "        return x\n",
    "    "
   ]
  },
  {
   "cell_type": "code",
   "execution_count": 20,
   "metadata": {},
   "outputs": [],
   "source": [
    "device = torch.device(\"cuda\" if torch.cuda.is_available() else \"cpu\")\n"
   ]
  },
  {
   "cell_type": "code",
   "execution_count": 21,
   "metadata": {},
   "outputs": [],
   "source": [
    "model = simpleUNet().to(device=device)"
   ]
  },
  {
   "cell_type": "code",
   "execution_count": 22,
   "metadata": {},
   "outputs": [
    {
     "name": "stdout",
     "output_type": "stream",
     "text": [
      "simpleUNet(\n",
      "  (conv1): Conv2d(1, 64, kernel_size=(3, 3), stride=(1, 1), padding=(1, 1))\n",
      "  (conv2): Conv2d(64, 128, kernel_size=(3, 3), stride=(1, 1), padding=(1, 1))\n",
      "  (conv3): Conv2d(128, 64, kernel_size=(3, 3), stride=(1, 1), padding=(1, 1))\n",
      "  (conv4): Conv2d(64, 1, kernel_size=(3, 3), stride=(1, 1), padding=(1, 1))\n",
      "  (relu): ReLU()\n",
      ")\n"
     ]
    }
   ],
   "source": [
    "print(model)"
   ]
  },
  {
   "cell_type": "code",
   "execution_count": 23,
   "metadata": {},
   "outputs": [
    {
     "data": {
      "text/plain": [
       "simpleUNet(\n",
       "  (conv1): Conv2d(1, 64, kernel_size=(3, 3), stride=(1, 1), padding=(1, 1))\n",
       "  (conv2): Conv2d(64, 128, kernel_size=(3, 3), stride=(1, 1), padding=(1, 1))\n",
       "  (conv3): Conv2d(128, 64, kernel_size=(3, 3), stride=(1, 1), padding=(1, 1))\n",
       "  (conv4): Conv2d(64, 1, kernel_size=(3, 3), stride=(1, 1), padding=(1, 1))\n",
       "  (relu): ReLU()\n",
       ")"
      ]
     },
     "execution_count": 23,
     "metadata": {},
     "output_type": "execute_result"
    }
   ],
   "source": [
    "model.train()"
   ]
  },
  {
   "cell_type": "code",
   "execution_count": 24,
   "metadata": {},
   "outputs": [],
   "source": [
    "T = 200\n",
    "IMG_SHAPE = (28, 28, 1)\n",
    "betas = np.linspace(1e-4, 0.002, T, dtype=np.float32)\n",
    "alphas = 1 - betas\n",
    "alphas_cumprod = np.cumprod(alphas)\n"
   ]
  },
  {
   "cell_type": "code",
   "execution_count": 25,
   "metadata": {},
   "outputs": [],
   "source": [
    "import torch.nn.functional as F\n",
    "optimizer = torch.optim.Adam(model.parameters(), lr=0.001)\n",
    "alphas_cumprod = torch.tensor(alphas_cumprod, dtype=torch.float32).to(device)"
   ]
  },
  {
   "cell_type": "code",
   "execution_count": 26,
   "metadata": {},
   "outputs": [],
   "source": [
    "def q_sample(x0, t, noise):\n",
    "    # noise = torch.randn((28,28))\n",
    "    a_bar = alphas_cumprod[t]\n",
    "    \n",
    "    # a_bar = torch.from_numpy(a_bar)\n",
    "    a_bar = a_bar.reshape((-1,1,1,1))\n",
    "    out = torch.sqrt(a_bar) * x0 + torch.sqrt(1 - a_bar) * noise\n",
    "\n",
    "    # plt.imshow(out[0].cpu().numpy().squeeze(), cmap='gray')\n",
    "    # plt.show()    \n",
    "    return out "
   ]
  },
  {
   "cell_type": "code",
   "execution_count": 27,
   "metadata": {},
   "outputs": [
    {
     "name": "stderr",
     "output_type": "stream",
     "text": [
      "  0%|          | 0/938 [00:00<?, ?it/s]"
     ]
    },
    {
     "name": "stderr",
     "output_type": "stream",
     "text": [
      "Epoch 1 | Loss: 0.1191: 100%|██████████| 938/938 [00:13<00:00, 70.83it/s]\n",
      "Epoch 2 | Loss: 0.0982: 100%|██████████| 938/938 [00:12<00:00, 74.34it/s]\n",
      "Epoch 3 | Loss: 0.0917: 100%|██████████| 938/938 [00:12<00:00, 75.13it/s]\n",
      "Epoch 4 | Loss: 0.0954: 100%|██████████| 938/938 [00:12<00:00, 74.46it/s]\n",
      "Epoch 5 | Loss: 0.1074: 100%|██████████| 938/938 [00:13<00:00, 70.25it/s]\n",
      "Epoch 6 | Loss: 0.0924: 100%|██████████| 938/938 [00:13<00:00, 68.50it/s]\n",
      "Epoch 7 | Loss: 0.0940: 100%|██████████| 938/938 [00:13<00:00, 70.60it/s]\n",
      "Epoch 8 | Loss: 0.0708: 100%|██████████| 938/938 [00:10<00:00, 86.69it/s]\n",
      "Epoch 9 | Loss: 0.0963: 100%|██████████| 938/938 [00:10<00:00, 91.61it/s]\n",
      "Epoch 10 | Loss: 0.0976: 100%|██████████| 938/938 [00:10<00:00, 86.16it/s]\n"
     ]
    }
   ],
   "source": [
    "for epoch in range(EPOCHS):\n",
    "    pbar = tqdm(train_data)\n",
    "    for x, _ in pbar:\n",
    "        x = x.to(device)\n",
    "        t = torch.randint(0, T, (x.size(0),), device=device)\n",
    "        noise = torch.randn((x.size(0), 1, 28, 28), device=device)\n",
    "        # noise = torch.randn_like(x)\n",
    "        x_t = q_sample(x, t, noise)\n",
    "        noise_pred = model(x_t, t)\n",
    "        # print(noise_pred)\n",
    "        # plt.imshow(noise_pred[0].cpu().detach().numpy().squeeze(), cmap='gray')\n",
    "        # plt.show()\n",
    "        loss = F.mse_loss(noise_pred, noise)\n",
    "        optimizer.zero_grad()\n",
    "        loss.backward()\n",
    "        optimizer.step()\n",
    "        pbar.set_description(f\"Epoch {epoch+1} | Loss: {loss.item():.4f}\")"
   ]
  },
  {
   "cell_type": "code",
   "execution_count": null,
   "metadata": {},
   "outputs": [],
   "source": [
    "@torch.no_grad()\n",
    "def sample_ddpm(n_samples):\n",
    "    x = torch.randn(n_samples, 1, 28, 28).to(device)\n",
    "    for t_ in reversed(range(T)):\n",
    "        t = torch.full((n_samples,), t_, device=device, dtype=torch.long)\n",
    "        x = p_sample(x, t)\n",
    "    return x\n",
    "\n",
    "@torch.no_grad()\n",
    "def p_sample(x, t):\n",
    "    beta_t = betas[t].view(-1, 1, 1, 1)\n",
    "    sqrt_one_minus_alpha = sqrt_one_minus_alphas_cumprod[t].view(-1, 1, 1, 1)\n",
    "    sqrt_recip_alpha = (1. / torch.sqrt(alphas[t])).view(-1, 1, 1, 1)\n",
    "\n",
    "    noise_pred = model(x, t)\n",
    "    model_mean = sqrt_recip_alpha * (x - beta_t * noise_pred / sqrt_one_minus_alpha)\n",
    "\n",
    "    if t[0] == 0:\n",
    "        return model_mean\n",
    "    else:\n",
    "        noise = torch.randn_like(x)\n",
    "        sigma = torch.sqrt(betas[t]).view(-1, 1, 1, 1)\n",
    "        return model_mean + sigma * noise\n"
   ]
  },
  {
   "cell_type": "code",
   "execution_count": 49,
   "metadata": {},
   "outputs": [],
   "source": [
    "import warnings\n",
    "warnings.filterwarnings('ignore')"
   ]
  },
  {
   "cell_type": "code",
   "execution_count": null,
   "metadata": {},
   "outputs": [
    {
     "name": "stdout",
     "output_type": "stream",
     "text": [
      "199\n",
      "198\n",
      "197\n",
      "196\n",
      "195\n",
      "194\n",
      "193\n",
      "192\n",
      "191\n",
      "190\n",
      "189\n",
      "188\n",
      "187\n",
      "186\n",
      "185\n",
      "184\n",
      "183\n",
      "182\n",
      "181\n",
      "180\n",
      "179\n",
      "178\n",
      "177\n",
      "176\n",
      "175\n",
      "174\n",
      "173\n",
      "172\n",
      "171\n",
      "170\n",
      "169\n",
      "168\n",
      "167\n",
      "166\n",
      "165\n",
      "164\n",
      "163\n",
      "162\n",
      "161\n",
      "160\n",
      "159\n",
      "158\n",
      "157\n",
      "156\n",
      "155\n",
      "154\n",
      "153\n",
      "152\n",
      "151\n",
      "150\n",
      "149\n",
      "148\n",
      "147\n",
      "146\n",
      "145\n",
      "144\n",
      "143\n",
      "142\n",
      "141\n",
      "140\n",
      "139\n",
      "138\n",
      "137\n",
      "136\n",
      "135\n",
      "134\n",
      "133\n",
      "132\n",
      "131\n",
      "130\n",
      "129\n",
      "128\n",
      "127\n",
      "126\n",
      "125\n",
      "124\n",
      "123\n",
      "122\n",
      "121\n",
      "120\n",
      "119\n",
      "118\n",
      "117\n",
      "116\n",
      "115\n",
      "114\n",
      "113\n",
      "112\n",
      "111\n",
      "110\n",
      "109\n",
      "108\n",
      "107\n",
      "106\n",
      "105\n",
      "104\n",
      "103\n",
      "102\n",
      "101\n",
      "100\n",
      "99\n",
      "98\n",
      "97\n",
      "96\n",
      "95\n",
      "94\n",
      "93\n",
      "92\n",
      "91\n",
      "90\n",
      "89\n",
      "88\n",
      "87\n",
      "86\n",
      "85\n",
      "84\n",
      "83\n",
      "82\n",
      "81\n",
      "80\n",
      "79\n",
      "78\n",
      "77\n",
      "76\n",
      "75\n",
      "74\n",
      "73\n",
      "72\n",
      "71\n",
      "70\n",
      "69\n",
      "68\n",
      "67\n",
      "66\n",
      "65\n",
      "64\n",
      "63\n",
      "62\n",
      "61\n",
      "60\n",
      "59\n",
      "58\n",
      "57\n",
      "56\n",
      "55\n",
      "54\n",
      "53\n",
      "52\n",
      "51\n",
      "50\n",
      "49\n",
      "48\n",
      "47\n",
      "46\n",
      "45\n",
      "44\n",
      "43\n",
      "42\n",
      "41\n",
      "40\n",
      "39\n",
      "38\n",
      "37\n",
      "36\n",
      "35\n",
      "34\n",
      "33\n",
      "32\n",
      "31\n",
      "30\n",
      "29\n",
      "28\n",
      "27\n",
      "26\n",
      "25\n",
      "24\n",
      "23\n",
      "22\n",
      "21\n",
      "20\n",
      "19\n",
      "18\n",
      "17\n",
      "16\n",
      "15\n",
      "14\n",
      "13\n",
      "12\n",
      "11\n",
      "10\n",
      "9\n",
      "8\n",
      "7\n",
      "6\n",
      "5\n",
      "4\n",
      "3\n",
      "2\n",
      "1\n",
      "0\n"
     ]
    },
    {
     "data": {
      "image/png": "[encoded data removed]",
      "text/plain": [
       "<Figure size 640x480 with 1 Axes>"
      ]
     },
     "metadata": {},
     "output_type": "display_data"
    }
   ],
   "source": [
    "@torch.no_grad()\n",
    "def p_sample(x, t):\n",
    "    noise_pred = model(x, t)\n",
    "\n",
    "    sqrt_reverse_alpha = 1 / torch.sqrt(torch.tensor(alphas[t])) #.view(-1, 1, 1, 1).to(device)\n",
    "    # print(sqrt_reverse_alpha)\n",
    "    beta_t = torch.tensor(betas[t])\n",
    "    # print(beta_t)\n",
    "    radical_one_minus_alpha_bar_t = torch.sqrt(1 - torch.tensor(alphas_cumprod[t]))\n",
    "    # print(radical_one_minus_alpha_bar_t)\n",
    "    sigma = torch.sqrt(torch.tensor(betas[t])).to(device)\n",
    "    # print(sigma)\n",
    "    noise = torch.randn_like(x, device=device)\n",
    "    # print(noise)\n",
    "    image = sqrt_reverse_alpha * (x - ((beta_t*noise_pred)/radical_one_minus_alpha_bar_t)) + sigma*noise\n",
    "\n",
    "    # print(image.shape)\n",
    "    return image\n",
    "\n",
    "\n",
    "\n",
    "@torch.no_grad()\n",
    "def create_image():\n",
    "    x = torch.randn(1, 28, 28).to(device)\n",
    "    \n",
    "    for i in reversed(range(T)):\n",
    "        t = torch.tensor([i]).to(device)\n",
    "        x = p_sample(x, t)\n",
    "        print(i)\n",
    "\n",
    "    return x\n",
    "        \n",
    "\n",
    "\n",
    "\n",
    "sample_T = create_image()\n",
    "# print(sample_T)\n",
    "plt.imshow(sample_T.cpu().squeeze(), cmap='gray')\n",
    "plt.show()"
   ]
  },
  {
   "cell_type": "code",
   "execution_count": null,
   "metadata": {},
   "outputs": [],
   "source": []
  },
  {
   "cell_type": "code",
   "execution_count": null,
   "metadata": {},
   "outputs": [],
   "source": []
  }
 ],
 "metadata": {
  "kernelspec": {
   "display_name": "Python PyTorch_AndrejKarpathy_venv",
   "language": "python",
   "name": "pytorch_andrejkarpathy_venv"
  },
  "language_info": {
   "codemirror_mode": {
    "name": "ipython",
    "version": 3
   },
   "file_extension": ".py",
   "mimetype": "text/x-python",
   "name": "python",
   "nbconvert_exporter": "python",
   "pygments_lexer": "ipython3",
   "version": "3.8.0"
  }
 },
 "nbformat": 4,
 "nbformat_minor": 2
}
